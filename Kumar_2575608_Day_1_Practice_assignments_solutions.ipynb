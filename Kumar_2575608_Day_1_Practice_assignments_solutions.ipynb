{
 "cells": [
  {
   "cell_type": "markdown",
   "id": "e4964de9",
   "metadata": {},
   "source": [
    "# 1.Manipulate using list.\n",
    "i)  To add new elements to the end of the list.\n",
    "ii) To reverse elements in the list.\n",
    "iii) To display the same list of elements multiple times.\n",
    "iv)  To concatenate two list\n",
    "v)  To sort the elements in the list in ascending order.\n"
   ]
  },
  {
   "cell_type": "code",
   "execution_count": 8,
   "id": "5d76569c",
   "metadata": {},
   "outputs": [
    {
     "name": "stdout",
     "output_type": "stream",
     "text": [
      "Before adding new elements\n",
      "[1, 9, 32, 1, 2]\n",
      "After adding new elements\n",
      "[1, 9, 32, 1, 2, 99]\n"
     ]
    }
   ],
   "source": [
    "#i) To add new elements to the end of the list.\n",
    "lst=[1,9,32,1,2]\n",
    "print(\"Before adding new elements\")\n",
    "print(lst)\n",
    "lst.append(99)\n",
    "print(\"After adding new elements\")\n",
    "print(lst)"
   ]
  },
  {
   "cell_type": "code",
   "execution_count": 13,
   "id": "fb192331",
   "metadata": {},
   "outputs": [
    {
     "name": "stdout",
     "output_type": "stream",
     "text": [
      "[2, 1, 32, 9, 1]\n",
      "[2, 1, 32, 9, 1]\n"
     ]
    }
   ],
   "source": [
    "#  ii) To reverse elements in the list.\n",
    "lst=[1,9,32,1,2]\n",
    "\n",
    "# process 1\n",
    "print(lst[::-1])\n",
    "\n",
    "# process 2\n",
    "lst.reverse()\n",
    "print(lst)\n"
   ]
  },
  {
   "cell_type": "code",
   "execution_count": 17,
   "id": "249cbb51",
   "metadata": {},
   "outputs": [
    {
     "name": "stdout",
     "output_type": "stream",
     "text": [
      "[1, 9, 32, 1, 2, 1, 9, 32, 1, 2, 1, 9, 32, 1, 2, 1, 9, 32, 1, 2, 1, 9, 32, 1, 2]\n"
     ]
    }
   ],
   "source": [
    "# iii) To display the same list of elements multiple times.\n",
    "lst=[1,9,32,1,2]\n",
    "print(lst*5)"
   ]
  },
  {
   "cell_type": "code",
   "execution_count": 26,
   "id": "aca11e95",
   "metadata": {},
   "outputs": [
    {
     "name": "stdout",
     "output_type": "stream",
     "text": [
      "[1, 2, 3, 4, 5, 6, 7, 8]\n"
     ]
    }
   ],
   "source": [
    "# iv) To concatenate two list\n",
    "l1=[1,2,3,4]\n",
    "l2=[5,6,7,8]\n",
    "print(l1+l2)\n",
    "\n"
   ]
  },
  {
   "cell_type": "code",
   "execution_count": 23,
   "id": "13e3f0f4",
   "metadata": {},
   "outputs": [
    {
     "name": "stdout",
     "output_type": "stream",
     "text": [
      "[1, 1, 2, 9, 32]\n"
     ]
    }
   ],
   "source": [
    "# v) To sort the elements in the list in ascending order.\n",
    "lst=[1,9,32,1,2]\n",
    "lst.sort()\n",
    "print(lst)"
   ]
  },
  {
   "cell_type": "markdown",
   "id": "0078cd73",
   "metadata": {},
   "source": [
    "# Write a python program to do in the Tuples\n",
    "i)  Manipulate using tuples\n",
    "ii) To add new elements to the end of the tuples\n",
    "iii) To reverse elements in the tuple\n",
    "iv) To display the elements of the same tuple multiple times.\n",
    "v) To concatenate two tulples.\n",
    "vi) To sort the elements in the list in ascending order."
   ]
  },
  {
   "cell_type": "code",
   "execution_count": 27,
   "id": "66d3fed4",
   "metadata": {},
   "outputs": [
    {
     "ename": "AttributeError",
     "evalue": "'tuple' object has no attribute 'append'",
     "output_type": "error",
     "traceback": [
      "\u001b[1;31m---------------------------------------------------------------------------\u001b[0m",
      "\u001b[1;31mAttributeError\u001b[0m                            Traceback (most recent call last)",
      "Cell \u001b[1;32mIn[27], line 4\u001b[0m\n\u001b[0;32m      1\u001b[0m \u001b[38;5;66;03m#  i)  Manipulate using tuples\u001b[39;00m\n\u001b[0;32m      2\u001b[0m \u001b[38;5;66;03m# ii) To add new elements to the end of the tuples\u001b[39;00m\n\u001b[0;32m      3\u001b[0m t\u001b[38;5;241m=\u001b[39m(\u001b[38;5;241m1\u001b[39m,\u001b[38;5;241m9\u001b[39m,\u001b[38;5;241m2\u001b[39m,\u001b[38;5;241m5\u001b[39m,\u001b[38;5;241m6\u001b[39m)\n\u001b[1;32m----> 4\u001b[0m \u001b[43mt\u001b[49m\u001b[38;5;241;43m.\u001b[39;49m\u001b[43mappend\u001b[49m(\u001b[38;5;241m4\u001b[39m)\n\u001b[0;32m      5\u001b[0m \u001b[38;5;28mprint\u001b[39m(t)\n",
      "\u001b[1;31mAttributeError\u001b[0m: 'tuple' object has no attribute 'append'"
     ]
    }
   ],
   "source": [
    "#  i)  Manipulate using tuples\n",
    "# ii) To add new elements to the end of the tuples\n",
    "t=(1,9,2,5,6)\n",
    "t.append(4)\n",
    "print(t)   #We can't add elements in tuple because tuple is immutable."
   ]
  },
  {
   "cell_type": "code",
   "execution_count": 35,
   "id": "cb5df898",
   "metadata": {},
   "outputs": [
    {
     "name": "stdout",
     "output_type": "stream",
     "text": [
      "(6, 5, 2, 9, 1)\n"
     ]
    }
   ],
   "source": [
    "# iii) To reverse elements in the tuple\n",
    "t=(1,9,2,5,6)\n",
    "\n",
    "print(t[::-1])\n"
   ]
  },
  {
   "cell_type": "code",
   "execution_count": 36,
   "id": "b3949abd",
   "metadata": {},
   "outputs": [
    {
     "name": "stdout",
     "output_type": "stream",
     "text": [
      "(2, 1, 3, 42, 56, 8, 2, 1, 3, 42, 56, 8)\n"
     ]
    }
   ],
   "source": [
    "# iv) To display the elements of the same tuple multiple times.\n",
    "t=(2,1,3,42,56,8)\n",
    "print(t*2)"
   ]
  },
  {
   "cell_type": "code",
   "execution_count": 39,
   "id": "161cda6a",
   "metadata": {},
   "outputs": [
    {
     "name": "stdout",
     "output_type": "stream",
     "text": [
      "(1, 2, 4, 5, 6, 7, 8, 9, 0, 2)\n"
     ]
    }
   ],
   "source": [
    "# v) To concatenate two tulples.\n",
    "t=(1,2,4,5,6)\n",
    "t2=(7,8,9,0,2)\n",
    "print(t+t2)"
   ]
  },
  {
   "cell_type": "code",
   "execution_count": 45,
   "id": "989f26ef",
   "metadata": {},
   "outputs": [
    {
     "name": "stdout",
     "output_type": "stream",
     "text": [
      "[0, 2, 7, 8, 9]\n"
     ]
    }
   ],
   "source": [
    "# vi) To sort the elements in the list in ascending order.\n",
    "t=(7,8,9,0,2)\n",
    "t1=sorted(t)\n",
    "print(t1)"
   ]
  },
  {
   "cell_type": "markdown",
   "id": "d0b453b0",
   "metadata": {},
   "source": [
    "# 3. Write a python program to implement the following using list.\n",
    "\n",
    "i)   Create a list with integers (minimum 10 numbers)\n",
    "\n",
    "ii)  How to display the last number in the list\n",
    "\n",
    "iii) Command for displaying the values from the list [0:4]\n",
    "\n",
    "iv)  Command for displaying the values from the list [2:]\n",
    "\n",
    "v)  Command for displaying the values from the list[:6]"
   ]
  },
  {
   "cell_type": "code",
   "execution_count": 54,
   "id": "07952aee",
   "metadata": {},
   "outputs": [
    {
     "name": "stdout",
     "output_type": "stream",
     "text": [
      "[1, 2, 3, 4, 5, 6, 7, 8, 9, 10]\n"
     ]
    }
   ],
   "source": [
    "# i)   Create a list with integers (minimum 10 numbers)\n",
    "n=10\n",
    "#first process\n",
    "l=[i for i in range(1,n+1)]\n",
    "print(l)"
   ]
  },
  {
   "cell_type": "code",
   "execution_count": 56,
   "id": "4cc0ad62",
   "metadata": {},
   "outputs": [
    {
     "name": "stdout",
     "output_type": "stream",
     "text": [
      "10\n"
     ]
    }
   ],
   "source": [
    "# ii)  How to display the last number in the list\n",
    "l=[1,2,3,9,2,80,10]\n",
    "print(l[-1])"
   ]
  },
  {
   "cell_type": "code",
   "execution_count": 57,
   "id": "4e76e6b3",
   "metadata": {},
   "outputs": [
    {
     "name": "stdout",
     "output_type": "stream",
     "text": [
      "[1, 2, 3, 9]\n"
     ]
    }
   ],
   "source": [
    "# iii) Command for displaying the values from the list [0:4]\n",
    "l=[1,2,3,9,2,80,10]\n",
    "print(l[0:4])"
   ]
  },
  {
   "cell_type": "code",
   "execution_count": 58,
   "id": "3bc8eba5",
   "metadata": {},
   "outputs": [
    {
     "name": "stdout",
     "output_type": "stream",
     "text": [
      "[3, 9, 2, 80, 10]\n"
     ]
    }
   ],
   "source": [
    "# iv)  Command for displaying the values from the list [2:]\n",
    "l=[1,2,3,9,2,80,10]\n",
    "print(l[2:])"
   ]
  },
  {
   "cell_type": "code",
   "execution_count": 60,
   "id": "ca39c292",
   "metadata": {},
   "outputs": [
    {
     "name": "stdout",
     "output_type": "stream",
     "text": [
      "[1, 2, 3, 9, 2, 80]\n"
     ]
    }
   ],
   "source": [
    "# v)  Command for displaying the values from the list[:6]\n",
    "l=[1,2,3,9,2,80,10,11,2,3,5]\n",
    "print(l[:6])"
   ]
  },
  {
   "cell_type": "markdown",
   "id": "78080656",
   "metadata": {},
   "source": [
    "# 4. Write a Python program: tuple1 = (10,50,20,40,30)\n",
    "\n",
    "i) To display the elements 10 and 50 from tuple1\n",
    "\n",
    "ii) To display the length of a tuple1.\n",
    "\n",
    "iii) To find the minimum element from tuple1. \n",
    "\n",
    "iv) To add all elements in the tuple1.\n",
    "\n",
    "v) To display the same tuple1 multiple times.\n"
   ]
  },
  {
   "cell_type": "code",
   "execution_count": 61,
   "id": "ec488d2b",
   "metadata": {},
   "outputs": [
    {
     "name": "stdout",
     "output_type": "stream",
     "text": [
      "(10, 50)\n"
     ]
    }
   ],
   "source": [
    "# i) To display the elements 10 and 50 from tuple1\n",
    "tuple1 = (10,50,20,40,30)\n",
    "print(tuple1[:2])"
   ]
  },
  {
   "cell_type": "code",
   "execution_count": 62,
   "id": "ee75d7a5",
   "metadata": {},
   "outputs": [
    {
     "data": {
      "text/plain": [
       "5"
      ]
     },
     "execution_count": 62,
     "metadata": {},
     "output_type": "execute_result"
    }
   ],
   "source": [
    "# ii) To display the length of a tuple1.\n",
    "\n",
    "len(tuple1)"
   ]
  },
  {
   "cell_type": "code",
   "execution_count": 63,
   "id": "4738a909",
   "metadata": {},
   "outputs": [
    {
     "name": "stdout",
     "output_type": "stream",
     "text": [
      "10\n"
     ]
    }
   ],
   "source": [
    "# iii) To find the minimum element from tuple1. \n",
    "\n",
    "print(min(tuple1))"
   ]
  },
  {
   "cell_type": "code",
   "execution_count": 65,
   "id": "d06c9550",
   "metadata": {},
   "outputs": [
    {
     "name": "stdout",
     "output_type": "stream",
     "text": [
      "150\n"
     ]
    }
   ],
   "source": [
    "# iv) To add all elements in the tuple1.\n",
    "\n",
    "print(sum(tuple1))"
   ]
  },
  {
   "cell_type": "code",
   "execution_count": 67,
   "id": "32dcaf09",
   "metadata": {},
   "outputs": [
    {
     "name": "stdout",
     "output_type": "stream",
     "text": [
      "(10, 50, 20, 40, 30, 10, 50, 20, 40, 30, 10, 50, 20, 40, 30)\n"
     ]
    }
   ],
   "source": [
    "# v) To display the same tuple1 multiple times.\n",
    "n=3\n",
    "print(tuple1*n)"
   ]
  },
  {
   "cell_type": "markdown",
   "id": "8976c1ee",
   "metadata": {},
   "source": [
    "# 5. Write a Python program:\n",
    "\n",
    "i) To calculate the length of a string\n",
    "\n",
    "ii) To reverse words in a string\n",
    "\n",
    "iv) To display the same string multiple times\n",
    "\n",
    "iv) To concatenate two strings\n",
    "\n",
    "v) Str1=\"South India\", using string slicing to display \"India\""
   ]
  },
  {
   "cell_type": "code",
   "execution_count": 71,
   "id": "2faaa94c",
   "metadata": {},
   "outputs": [
    {
     "name": "stdout",
     "output_type": "stream",
     "text": [
      "29\n"
     ]
    }
   ],
   "source": [
    "# i) To calculate the length of a string\n",
    "s=\"Mphasis Learning Academy MLA \"\n",
    "print(len(s))"
   ]
  },
  {
   "cell_type": "code",
   "execution_count": 72,
   "id": "65199782",
   "metadata": {},
   "outputs": [
    {
     "name": "stdout",
     "output_type": "stream",
     "text": [
      " ALM ymedacA gninraeL sisahpM\n"
     ]
    }
   ],
   "source": [
    "# ii) To reverse words in a string\n",
    "print(s[::-1])"
   ]
  },
  {
   "cell_type": "code",
   "execution_count": 74,
   "id": "b39a0765",
   "metadata": {},
   "outputs": [
    {
     "name": "stdout",
     "output_type": "stream",
     "text": [
      "Mphasis Learning Academy MLA Mphasis Learning Academy MLA Mphasis Learning Academy MLA \n"
     ]
    }
   ],
   "source": [
    "# iv) To display the same string multiple times\n",
    "\n",
    "print(s*3)"
   ]
  },
  {
   "cell_type": "code",
   "execution_count": 75,
   "id": "057dcd33",
   "metadata": {},
   "outputs": [
    {
     "name": "stdout",
     "output_type": "stream",
     "text": [
      "I am learning AI ML in Mphasis Learning Academy\n"
     ]
    }
   ],
   "source": [
    "# iv) To concatenate two strings\n",
    "s1=\"I am learning AI ML\"\n",
    "s2=\" in Mphasis Learning Academy\"\n",
    "print(s1+s2)"
   ]
  },
  {
   "cell_type": "code",
   "execution_count": 76,
   "id": "525f619e",
   "metadata": {},
   "outputs": [
    {
     "name": "stdout",
     "output_type": "stream",
     "text": [
      " India\n"
     ]
    }
   ],
   "source": [
    "# v) Str1=\"South India\", using string slicing to display \"India\"\n",
    "\n",
    "Str1=\"South India\"\n",
    "print(Str1[5:])"
   ]
  },
  {
   "cell_type": "markdown",
   "id": "b13dee44",
   "metadata": {},
   "source": [
    "# 6 Perform the following:\n",
    "\n",
    "i) Creating the Dictionary.\n",
    "\n",
    "ii) Accessing values and keys in the Dictionary.\n",
    "\n",
    "iii) Updating the dictionary using a function.\n",
    "\n",
    "iv) Clear and delete the dictionary values."
   ]
  },
  {
   "cell_type": "code",
   "execution_count": 85,
   "id": "32d112f9",
   "metadata": {},
   "outputs": [
    {
     "name": "stdout",
     "output_type": "stream",
     "text": [
      "{'EMP_ID': '1234', 'EMP_NAME': 'Dileep'}\n"
     ]
    }
   ],
   "source": [
    "# i) Creating the Dictionary.\n",
    "\n",
    "dict={\"EMP_ID\":\"1234\",\"EMP_NAME\":\"Dileep\"}\n",
    "print(dict)"
   ]
  },
  {
   "cell_type": "code",
   "execution_count": 86,
   "id": "9ef4e2e7",
   "metadata": {},
   "outputs": [
    {
     "name": "stdout",
     "output_type": "stream",
     "text": [
      "1234\n"
     ]
    }
   ],
   "source": [
    "# ii) Accessing values and keys in the Dictionary.\n",
    "\n",
    "d=dict[\"EMP_ID\"] #By using key we can access in dictonaries.\n",
    "print(d)"
   ]
  },
  {
   "cell_type": "code",
   "execution_count": 87,
   "id": "52eacb6e",
   "metadata": {},
   "outputs": [
    {
     "name": "stdout",
     "output_type": "stream",
     "text": [
      "{'EMP_ID': '1234', 'EMP_NAME': 'Kumar', 'Manger': 'Dharshan'}\n"
     ]
    }
   ],
   "source": [
    "# iii) Updating the dictionary using a function.\n",
    "\n",
    "dic={\"EMP_NAME\":\"Kumar\",\"Manger\":\"Dharshan\"}\n",
    "dict.update(dic)\n",
    "print(dict)\n"
   ]
  },
  {
   "cell_type": "code",
   "execution_count": 89,
   "id": "5d6377cb",
   "metadata": {},
   "outputs": [
    {
     "name": "stdout",
     "output_type": "stream",
     "text": [
      "{'EMP_ID': '1234', 'EMP_NAME': 'Kumar'}\n",
      "{}\n"
     ]
    }
   ],
   "source": [
    "# iv) Clear and delete the dictionary values.\n",
    "del dict[\"Manger\"]\n",
    "print(dict)\n",
    "\n",
    "dict.clear()\n",
    "\n",
    "print(dict)"
   ]
  },
  {
   "cell_type": "markdown",
   "id": "b9b5848a",
   "metadata": {},
   "source": [
    "# 7. Python program to insert a number to any position in a list."
   ]
  },
  {
   "cell_type": "code",
   "execution_count": 90,
   "id": "9694570a",
   "metadata": {},
   "outputs": [
    {
     "name": "stdout",
     "output_type": "stream",
     "text": [
      "[1, 2, 6, 22, 3, 5, 1, 44]\n"
     ]
    }
   ],
   "source": [
    "l=[1,2,6,3,5,1,44]\n",
    "l.insert(3,22)\n",
    "print(l)"
   ]
  },
  {
   "cell_type": "markdown",
   "id": "73023e14",
   "metadata": {},
   "source": [
    "# 8. Python program to delete an element from a list by index."
   ]
  },
  {
   "cell_type": "code",
   "execution_count": 95,
   "id": "44e97b61",
   "metadata": {},
   "outputs": [
    {
     "name": "stdout",
     "output_type": "stream",
     "text": [
      "[1, 2, 3, 5, 1, 44]\n"
     ]
    }
   ],
   "source": [
    "l=[1,2,6,3,5,1,44]\n",
    "del l[2]\n",
    "print(l)"
   ]
  },
  {
   "cell_type": "markdown",
   "id": "1837f141",
   "metadata": {},
   "source": [
    "# 9. Write a program to display a number from 1 to 100."
   ]
  },
  {
   "cell_type": "code",
   "execution_count": 97,
   "id": "e15a3fbd",
   "metadata": {},
   "outputs": [
    {
     "name": "stdout",
     "output_type": "stream",
     "text": [
      "To display 1 to 100100\n",
      "1 2 3 4 5 6 7 8 9 10 11 12 13 14 15 16 17 18 19 20 21 22 23 24 25 26 27 28 29 30 31 32 33 34 35 36 37 38 39 40 41 42 43 44 45 46 47 48 49 50 51 52 53 54 55 56 57 58 59 60 61 62 63 64 65 66 67 68 69 70 71 72 73 74 75 76 77 78 79 80 81 82 83 84 85 86 87 88 89 90 91 92 93 94 95 96 97 98 99 100 "
     ]
    }
   ],
   "source": [
    "n=int(input(\"To display 1 to 100\"))\n",
    "for i in range(1,n+1):\n",
    "    print(i,end=\" \")"
   ]
  },
  {
   "cell_type": "markdown",
   "id": "758e1c16",
   "metadata": {},
   "source": [
    "# 10. Write a Python program to find the sum of all items in a tuple."
   ]
  },
  {
   "cell_type": "code",
   "execution_count": 98,
   "id": "8e9ab6b2",
   "metadata": {},
   "outputs": [
    {
     "name": "stdout",
     "output_type": "stream",
     "text": [
      "348\n"
     ]
    }
   ],
   "source": [
    "t=(1,2,3,4,5,33,6,7,88,99,100)\n",
    "print(sum(t))"
   ]
  },
  {
   "cell_type": "code",
   "execution_count": null,
   "id": "3320375f",
   "metadata": {},
   "outputs": [],
   "source": [
    "# 11. Create a dictionary containing three lambda functions square, cube and square root\n",
    "\n",
    "i) Eg. dict = ('Square': function for squaring, 'Cube': function for cube, 'Squareroot':\n",
    "\n",
    "function for square root)\n",
    "\n",
    "ii) Pass the values (input from the user) to the functions in the dictionary respectively.\n",
    "\n",
    "iii) Then add the outputs of each function and print it."
   ]
  },
  {
   "cell_type": "code",
   "execution_count": 105,
   "id": "7a071136",
   "metadata": {},
   "outputs": [
    {
     "name": "stdout",
     "output_type": "stream",
     "text": [
      "4\n",
      "{'Square': 16, 'Cube': 64, 'Squareroot': 2.0}\n",
      "82.0\n"
     ]
    }
   ],
   "source": [
    "# i) Eg. dict = ('Square': function for squaring, 'Cube': function for cube, 'Squareroot':\n",
    "\n",
    "# function for square root)\n",
    "\n",
    "import math\n",
    "\n",
    "dict = {'Square': lambda x:x**2, 'Cube': lambda x:x**3, 'Squareroot':lambda x:math.sqrt(x)}\n",
    "\n",
    "# ii) Pass the values (input from the user) to the functions in the dictionary respectively.\n",
    "\n",
    "x=int(input())\n",
    "results={key:value(x) for key,value in dict.items()}\n",
    "print(results)\n",
    "\n",
    "# iii) Then add the outputs of each function and print it.\n",
    "\n",
    "s=sum(results.values())\n",
    "print(s)\n",
    "    \n",
    "\n",
    "    \n",
    "    "
   ]
  },
  {
   "cell_type": "markdown",
   "id": "f67f69bb",
   "metadata": {},
   "source": [
    "# 12. A list of words is given. Find the words from the list that have their second character in uppercase\n",
    "\n",
    "Is=['hello', 'Dear', 'hOw', 'ARe', 'You']"
   ]
  },
  {
   "cell_type": "code",
   "execution_count": 124,
   "id": "1279f1c8",
   "metadata": {},
   "outputs": [
    {
     "name": "stdout",
     "output_type": "stream",
     "text": [
      "['hOw', 'ARe']\n"
     ]
    }
   ],
   "source": [
    "ls=['hello', 'Dear', 'hOw', 'ARe', 'You']\n",
    "\n",
    "\n",
    "result=[i for i in ls if len(i) > 1 and  i[1].isupper()]\n",
    "print(result)\n",
    "\n"
   ]
  },
  {
   "cell_type": "markdown",
   "id": "e0b491c7",
   "metadata": {},
   "source": [
    "# 13. A dictionary of names and their weights on earth is given. Find how much they will weigh on the\n",
    "\n",
    "moon. (Use map and lambda functions) Formula: wMoon=(wEarth*GMoon)/GEarth\n",
    "i) #Weight of people in kg\n",
    "\n",
    "WeightOnEarth ={'John':45, 'Shelly':65, 'Marry':35}\n",
    "\n",
    "ii)#Gravitational force on the Moon: 1.622 m/s2\n",
    "\n",
    "GMoon= 1.622\n",
    "\n",
    "iii) #Gravitational force on the Earth: 9.81 m/s2\n",
    "\n",
    "GEarth=9.81"
   ]
  },
  {
   "cell_type": "code",
   "execution_count": 142,
   "id": "f6194c5c",
   "metadata": {},
   "outputs": [
    {
     "name": "stdout",
     "output_type": "stream",
     "text": [
      "{'John': 7.440366972477065, 'Shelly': 10.747196738022426, 'Marry': 5.786952089704383}\n"
     ]
    }
   ],
   "source": [
    "WeightOnEarth ={'John':45, 'Shelly':65, 'Marry':35}\n",
    "\n",
    "moon_weights_values = list(map(lambda w: (w * GMoon) / GEarth, WeightOnEarth.values()))\n",
    "\n",
    "WeightOnMoon = {name: weight for name, weight in zip(WeightOnEarth.keys(), moon_weights_values)}\n",
    "print(WeightOnMoon)\n"
   ]
  },
  {
   "cell_type": "code",
   "execution_count": null,
   "id": "39129814",
   "metadata": {},
   "outputs": [],
   "source": []
  },
  {
   "cell_type": "code",
   "execution_count": null,
   "id": "5047aacd",
   "metadata": {},
   "outputs": [],
   "source": []
  }
 ],
 "metadata": {
  "kernelspec": {
   "display_name": "Python 3 (ipykernel)",
   "language": "python",
   "name": "python3"
  },
  "language_info": {
   "codemirror_mode": {
    "name": "ipython",
    "version": 3
   },
   "file_extension": ".py",
   "mimetype": "text/x-python",
   "name": "python",
   "nbconvert_exporter": "python",
   "pygments_lexer": "ipython3",
   "version": "3.8.17"
  }
 },
 "nbformat": 4,
 "nbformat_minor": 5
}

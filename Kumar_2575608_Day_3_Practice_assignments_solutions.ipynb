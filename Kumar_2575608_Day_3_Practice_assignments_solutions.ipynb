{
 "cells": [
  {
   "cell_type": "markdown",
   "id": "3558ea15",
   "metadata": {},
   "source": [
    "# 1. Write a python function that copies a file reading and writing up to 50 characters at a time."
   ]
  },
  {
   "cell_type": "code",
   "execution_count": 2,
   "id": "9836337f",
   "metadata": {},
   "outputs": [
    {
     "name": "stdout",
     "output_type": "stream",
     "text": [
      "Journeying through stars, dreams await beyond mars. I am From Andhra Pradesh\n"
     ]
    }
   ],
   "source": [
    "file=open(\"abc.txt\", \"w\")\n",
    "d=file.write(\"Journeying through stars, dreams await beyond mars. I am From Andhra Pradesh\")\n",
    "file.close()\n",
    "\n",
    "file=open(\"abc.txt\",\"r\")\n",
    "\n",
    "print(file.read())\n",
    "file.close()\n",
    "\n",
    "\n",
    "\n"
   ]
  },
  {
   "cell_type": "code",
   "execution_count": 11,
   "id": "a3d166e4",
   "metadata": {},
   "outputs": [
    {
     "name": "stdout",
     "output_type": "stream",
     "text": [
      "Journeying through stars, dreams await beyond mars. I am From Andhra Pradesh\n"
     ]
    }
   ],
   "source": [
    "f=open(\"py.txt\",\"r\")\n",
    "print(f.read())\n",
    "f.close()\n",
    "\n",
    "f=open(\"py.txt\",\"w\")\n",
    "f.write(\"Whispered secrets of old, tales of valor and gold.\")\n",
    "f.close()\n",
    "\n"
   ]
  },
  {
   "cell_type": "code",
   "execution_count": 10,
   "id": "01d15b71",
   "metadata": {},
   "outputs": [],
   "source": [
    "def files(f1,f2):\n",
    "    with open(f1,\"r\") as tx,open(f2,\"w\") as pi:\n",
    "        while True:\n",
    "            content=tx.read(50)\n",
    "            if not content:\n",
    "                break\n",
    "            pi.write(content)\n",
    "\n",
    "files(\"abc.txt\",\"py.txt\")"
   ]
  },
  {
   "cell_type": "markdown",
   "id": "df07529c",
   "metadata": {},
   "source": [
    "# 2. Print all numbers present in the text file and print the number of blank spaces in that file"
   ]
  },
  {
   "cell_type": "code",
   "execution_count": 45,
   "id": "aab6e005",
   "metadata": {
    "scrolled": true
   },
   "outputs": [
    {
     "name": "stdout",
     "output_type": "stream",
     "text": [
      "the number in the given file:\n",
      "1900 20 000 1950 500 000 15 1910 200 1960 40 30 20 \n",
      "Number of spaces in the file is :\n",
      " 129\n"
     ]
    }
   ],
   "source": [
    "f=open(\"files.txt\",\"r\")\n",
    "fi=f.read()\n",
    "numbers=[]\n",
    "current_number=\"\"\n",
    "for x in fi:\n",
    "     \n",
    "    if x.isdigit():\n",
    "        current_number+=x\n",
    "    else:\n",
    "        if current_number:\n",
    "            numbers.append(current_number)\n",
    "            current_number=\"\"\n",
    "if current_number:\n",
    "    numbers.append(current_number)\n",
    "    current_number=\"\"\n",
    "spaces=fi.count(\" \")\n",
    "print(\"the number in the given file:\")\n",
    "for number in numbers:\n",
    "    print(number,end=\" \")\n",
    "\n",
    "print()\n",
    "\n",
    "print(\"Number of spaces in the file is :\\n\",spaces)\n"
   ]
  },
  {
   "cell_type": "markdown",
   "id": "dcde3722",
   "metadata": {},
   "source": [
    "# 3. Write a function called sed that takes as arguments a pattern string, a replacement string, and two filenames; it should read the first file and write the contents into the second file (creating it if necessary). If the pattern string appears anywhere in the file, it should be replaced with the replacement string. If an error occurs while opening, reading, writing, or closing files, your program should catch the exception, print an error message, and exit."
   ]
  },
  {
   "cell_type": "code",
   "execution_count": 51,
   "id": "0cf3643f",
   "metadata": {},
   "outputs": [],
   "source": [
    "def sed(pattern,replacement,f1,f2):\n",
    "    try:\n",
    "        with open(f1,\"r\") as f11:\n",
    "            content=f11.read()\n",
    "            content = content.replace(pattern, replacement)\n",
    "        with open(f2,\"w\") as f22:\n",
    "            f22.write(content)\n",
    "    except Exception as e:\n",
    "        print(f\"An error occurred: {e}\")\n",
    "        exit()\n",
    "\n",
    "sed(\"welcome\" ,\"Mphasis\",\"files.txt\",\"second.txt\")"
   ]
  },
  {
   "cell_type": "markdown",
   "id": "75b92bb6",
   "metadata": {},
   "source": [
    "# 4. Log File Analysis: You have a log file containing records of user activities on a website. Each line in the file represents a log entry with details like timestamp, user ID, and action performed. Your task is to analyze this log file.\n",
    "\n",
    "a. Write Python code to read the log file and extract specific information, such as the number of unique users or the most common action.\n",
    "\n",
    "b. How would you handle large log files efficiently without loading the entire file into memory?"
   ]
  },
  {
   "cell_type": "code",
   "execution_count": 11,
   "id": "e26dbf50",
   "metadata": {},
   "outputs": [],
   "source": [
    "from collections import Counter\n",
    "\n",
    "# Function to analyze a log file\n",
    "def analyze_log(log_file):\n",
    "    try:\n",
    "        with open(log_file, 'r') as file:\n",
    "            lines = file.readlines()\n",
    "\n",
    "        # Extract specific information\n",
    "        user_ids = []\n",
    "        actions = []\n",
    "\n",
    "        for line in lines:\n",
    "            parts = line.strip().split('\\t')\n",
    "            print(parts)\n",
    "            if len(parts) >= 3:\n",
    "                timestamp, user_id, action = parts[:3]\n",
    "                user_ids.append(user_id)\n",
    "                actions.append(action)\n",
    "\n",
    "        # Calculate the number of unique users\n",
    "        unique_users = len(set(user_ids))\n",
    "        print(actions)\n",
    "\n",
    "        # Find the most common action\n",
    "        most_common_action = Counter(actions).most_common(1)[0][0]\n",
    "\n",
    "        print(f\"Number of unique users: {unique_users}\")\n",
    "        print(f\"Most common action: {most_common_action}\")\n",
    "\n",
    "    except FileNotFoundError:\n",
    "        print(f\"Error: '{log_file}' not found.\")\n",
    "    except Exception as e:\n",
    "        print(f\"An error occurred: {str(e)}\")\n",
    "\n",
    "# Example usage:\n",
    "log_file ='log.txt'\n",
    "analyze_log(log_file)"
   ]
  },
  {
   "cell_type": "markdown",
   "id": "f16591f5",
   "metadata": {},
   "source": [
    "# 5.Text File Search and Replace: You have a text file with a large amount of text, and you want to search for specific words or phrases and replace them with new content.\n",
    "\n",
    "a. Write Python code to search for and replace text within a text file.\n",
    "\n",
    "b. How would you handle cases where you need to perform multiple replacements in a single pass?"
   ]
  },
  {
   "cell_type": "code",
   "execution_count": 57,
   "id": "9413236a",
   "metadata": {},
   "outputs": [
    {
     "name": "stdout",
     "output_type": "stream",
     "text": [
      "Dileep \n",
      "Mphasis\n"
     ]
    }
   ],
   "source": [
    "# a. Write Python code to search for and replace text within a text file.\n",
    "def re(search,replace):\n",
    "    with open(\"5text.txt\",\"r\") as f4:\n",
    "        content=f4.read()\n",
    "    content=content.replace(search,replace)\n",
    "    with open(\"5text.txt\",\"w\") as f4:\n",
    "        f4.write(content)\n",
    "        \n",
    "search=input()\n",
    "replace=input()\n",
    "re(search,replace)\n"
   ]
  },
  {
   "cell_type": "code",
   "execution_count": 2,
   "id": "ad58405b",
   "metadata": {},
   "outputs": [],
   "source": [
    "# b. How would you handle cases where you need to perform multiple replacements in a single pass?\n",
    "\n",
    "\n",
    "def multiple_replace(file_name, replacement_dict):\n",
    "    with open(file_name, 'r') as file:\n",
    "        content = file.read()\n",
    "    \n",
    "    for search_text, replace_text in replacement_dict.items():\n",
    "        content = content.replace(search_text, replace_text)\n",
    "\n",
    "    with open(file_name, 'w') as file:\n",
    "        file.write(content)\n",
    "\n",
    "# Example Usage:\n",
    "replacements = {\"Dileep\":\"Kumar\",\"Mphasis\":\"Mphasis Learning Academy\",\"kumar\":\"panchumarthi kumar\"}\n",
    "multiple_replace(\"Dileep.txt\", replacements)"
   ]
  },
  {
   "cell_type": "markdown",
   "id": "69c56e0e",
   "metadata": {},
   "source": [
    "# 6. Write a Python script that concatenates the contents of multiple text files into a single output file. Allow the user to specify the input files and the output file."
   ]
  },
  {
   "cell_type": "code",
   "execution_count": 4,
   "id": "c48e8783",
   "metadata": {},
   "outputs": [
    {
     "name": "stdout",
     "output_type": "stream",
     "text": [
      "Enter the path of an input text file (or 'done' to finish): files.txt\n",
      "Enter the path of an input text file (or 'done' to finish): op.txt\n",
      "Enter the path of an input text file (or 'done' to finish): done\n",
      "Enter the path of the output text file: op.txt\n",
      "Concatenated 2 files into 'op.txt'\n"
     ]
    }
   ],
   "source": [
    "\n",
    "def concatenate_files(input_files, output_file):\n",
    "    try:\n",
    "        with open(output_file, 'w') as output:\n",
    "            for input_file in input_files:\n",
    "                with open(input_file, 'r') as file:\n",
    "                    content = file.read()\n",
    "                    output.write(content)\n",
    "                output.write('\\n')  # Add a newline between concatenated files\n",
    "\n",
    "        print(f\"Concatenated {len(input_files)} files into '{output_file}'\")\n",
    "\n",
    "    except FileNotFoundError:\n",
    "        print(f\"Error: One or more input files not found.\")\n",
    "    except Exception as e:\n",
    "        print(f\"An error occurred: {str(e)}\")\n",
    "\n",
    "# Input from the user\n",
    "input_files = []\n",
    "while True:\n",
    "    file_path = input(\"Enter the path of an input text file (or 'done' to finish): \")\n",
    "    if file_path.lower() == 'done':\n",
    "        break\n",
    "    input_files.append(file_path)\n",
    "\n",
    "output_file = input(\"Enter the path of the output text file: \")\n",
    "\n",
    "# Concatenate the input files into the output file\n",
    "concatenate_files(input_files, output_file)"
   ]
  },
  {
   "cell_type": "markdown",
   "id": "8bd3e633",
   "metadata": {},
   "source": [
    "# 7. You are given a text file named input.txt containing a list of words, one word per line. Your task is to create a Python program that reads the contents of input.txt, processes the words, and writes the result to an output file named output.txt.\n",
    "\n",
    "a. The program should perform the following operations:\n",
    "\n",
    "i. Read the words from input.txt.\n",
    "\n",
    "ii. For each word in the input file, calculate the length of the word and store it in a dictionary where the word is the key, and the length is the value.\n",
    "\n",
    "iii. Write the word-length dictionary to output.txt in the following format:\n",
    "\n",
    "\n",
    "iv. Close both input and output files properly.\n",
    "\n",
    "v. Write Python code to accomplish this task. Ensure proper error handling for file operations.\n"
   ]
  },
  {
   "cell_type": "code",
   "execution_count": 8,
   "id": "883cfd76",
   "metadata": {},
   "outputs": [
    {
     "name": "stdout",
     "output_type": "stream",
     "text": [
      "Processing completed. Check 'output.txt' for results.\n",
      "I am from Mphasis Learning Academy: 34\n",
      "\n"
     ]
    }
   ],
   "source": [
    "input_file_name = 'ip.txt'\n",
    "output_file_name = 'op1.txt'\n",
    "\n",
    "with open(input_file_name, 'r') as input_file:\n",
    "    word_length_dict = {}  \n",
    "    for line in input_file:\n",
    "        word = line.strip() \n",
    "        length = len(word)   \n",
    "        word_length_dict[word] = length\n",
    "with open(output_file_name, 'w') as output_file:\n",
    "    for word, length in word_length_dict.items():\n",
    "        output_file.write(f\"{word}: {length}\\n\")\n",
    "        print(\"Processing completed. Check 'output.txt' for results.\")\n",
    "        \n",
    "f=open(\"op1.txt\")\n",
    "print(f.read())"
   ]
  },
  {
   "cell_type": "markdown",
   "id": "d4d3664d",
   "metadata": {},
   "source": [
    "# 8. Assume that you are developing a student gradebook system for a school. The system should allow teachers to input student grades for various subjects, store the data in files, and provide students with the ability to view their grades. Design a Python program that accomplishes the following tasks:i. Teachers should be able to input grades for students in different subjects.ii. Store the student grade data in separate text files for each subject.iii. Students should be able to view their grades for each subject.iv. Implement error handling for file operations, such as file not found or permission issues."
   ]
  },
  {
   "cell_type": "code",
   "execution_count": 9,
   "id": "eb8cec36",
   "metadata": {},
   "outputs": [
    {
     "name": "stdout",
     "output_type": "stream",
     "text": [
      "\n",
      "Options:\n",
      "1. Input Grades (Teacher)\n",
      "2. View Grades (Student)\n",
      "3. Quit\n",
      "Enter your choice: 1\n",
      "Enter the subject: 1\n",
      "Enter student name (or 'q' to quit): Dileep\n",
      "Enter Dileep's grade for 1: 1\n",
      "Enter student name (or 'q' to quit): q\n",
      "Grades for 1 have been recorded.\n",
      "\n",
      "Options:\n",
      "1. Input Grades (Teacher)\n",
      "2. View Grades (Student)\n",
      "3. Quit\n",
      "Enter your choice: 2\n",
      "Enter your name: kumar\n",
      "Enter the subject: 2\n",
      "Grades file for 2 not found.\n",
      "\n",
      "Options:\n",
      "1. Input Grades (Teacher)\n",
      "2. View Grades (Student)\n",
      "3. Quit\n",
      "Enter your choice: 3\n",
      "Goodbye!\n"
     ]
    }
   ],
   "source": [
    "import os\n",
    "# Function to input grades for a subject by teachers\n",
    "def input_grades(subject):\n",
    "    try:\n",
    "        with open(f\"{subject}_grades.txt\", \"a\") as file:\n",
    "            while True:\n",
    "                student_name = input(\"Enter student name (or 'q' to quit): \")\n",
    "                if student_name.lower() == 'q':\n",
    "                    break\n",
    "                grade = input(f\"Enter {student_name}'s grade for {subject}: \")\n",
    "                file.write(f\"{student_name}: {grade}\\n\")\n",
    "        print(f\"Grades for {subject} have been recorded.\")\n",
    "    except IOError as e:\n",
    "        print(f\"Error: {e}\")\n",
    "# Function to view grades for a subject by students\n",
    "def view_grades(subject, student_name):\n",
    "    try:\n",
    "        with open(f\"{subject}_grades.txt\", \"r\") as file:\n",
    "            grades = file.readlines()\n",
    "            student_grades = [line.strip() for line in grades if line.startswith(student_name)]\n",
    "            if student_grades:\n",
    "                print(f\"Grades for {subject}:\")\n",
    "                for grade in student_grades:\n",
    "                    print(grade)\n",
    "            else:\n",
    "                print(f\"No grades found for {student_name} in {subject}.\")\n",
    "    except FileNotFoundError:\n",
    "        print(f\"Grades file for {subject} not found.\")\n",
    "    except IOError as e:\n",
    "        print(f\"Error: {e}\")\n",
    "\n",
    "# Main program loop\n",
    "while True:\n",
    "    print(\"\\nOptions:\")\n",
    "    print(\"1. Input Grades (Teacher)\")\n",
    "    print(\"2. View Grades (Student)\")\n",
    "    print(\"3. Quit\")\n",
    "    choice = input(\"Enter your choice: \")\n",
    "\n",
    "    if choice == '1':\n",
    "        subject = input(\"Enter the subject: \")\n",
    "        input_grades(subject)\n",
    "    elif choice == '2':\n",
    "        student_name = input(\"Enter your name: \")\n",
    "        subject = input(\"Enter the subject: \")\n",
    "        view_grades(subject, student_name)\n",
    "    elif choice == '3':\n",
    "        break\n",
    "    else:\n",
    "        print(\"Invalid choice. Please try again.\")\n",
    "\n",
    "print(\"Goodbye!\")"
   ]
  },
  {
   "cell_type": "code",
   "execution_count": null,
   "id": "ec93ddc1",
   "metadata": {},
   "outputs": [],
   "source": []
  }
 ],
 "metadata": {
  "kernelspec": {
   "display_name": "Python 3 (ipykernel)",
   "language": "python",
   "name": "python3"
  },
  "language_info": {
   "codemirror_mode": {
    "name": "ipython",
    "version": 3
   },
   "file_extension": ".py",
   "mimetype": "text/x-python",
   "name": "python",
   "nbconvert_exporter": "python",
   "pygments_lexer": "ipython3",
   "version": "3.8.17"
  }
 },
 "nbformat": 4,
 "nbformat_minor": 5
}

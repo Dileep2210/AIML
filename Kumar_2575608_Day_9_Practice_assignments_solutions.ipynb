{
 "cells": [
  {
   "cell_type": "code",
   "execution_count": 2,
   "id": "9beddafb",
   "metadata": {},
   "outputs": [],
   "source": [
    "import numpy as np"
   ]
  },
  {
   "cell_type": "code",
   "execution_count": 6,
   "id": "b5d44c61",
   "metadata": {},
   "outputs": [],
   "source": [
    "np_olympic_country=np.array(['GBR', 'Chine', 'RUS', 'US', 'KOR', 'JPN', 'GER'])\n",
    "np_olympic_country_gold=np.array([29, 38, 24, 46, 13,7,11])\n",
    "\n",
    "np_olympic_country_silver=np.array([17,18,25,28,8,14,11])\n",
    "np_olympic_country_Bronze=np.array([19,22,32,29,7,17,14])"
   ]
  },
  {
   "cell_type": "markdown",
   "id": "2e3e99c4",
   "metadata": {},
   "source": [
    "# 1.find the country index with maximum gold"
   ]
  },
  {
   "cell_type": "code",
   "execution_count": 9,
   "id": "375a196c",
   "metadata": {},
   "outputs": [
    {
     "data": {
      "text/plain": [
       "'US'"
      ]
     },
     "execution_count": 9,
     "metadata": {},
     "output_type": "execute_result"
    }
   ],
   "source": [
    "g=np_olympic_country_gold.argmax()\n",
    "index=np_olympic_country[g]\n",
    "index"
   ]
  },
  {
   "cell_type": "markdown",
   "id": "8c7e7023",
   "metadata": {},
   "source": [
    "# 2. Print Country with Maximum gold"
   ]
  },
  {
   "cell_type": "code",
   "execution_count": 10,
   "id": "a111f3e6",
   "metadata": {},
   "outputs": [
    {
     "name": "stdout",
     "output_type": "stream",
     "text": [
      "US with maximum gold is  46\n"
     ]
    }
   ],
   "source": [
    "print(index,\"with maximum gold is\",max(np_olympic_country_gold))"
   ]
  },
  {
   "cell_type": "markdown",
   "id": "bd31ee52",
   "metadata": {},
   "source": [
    "# 3. Find countries with more than 20 gold medals"
   ]
  },
  {
   "cell_type": "code",
   "execution_count": 26,
   "id": "63ad24a9",
   "metadata": {},
   "outputs": [
    {
     "name": "stdout",
     "output_type": "stream",
     "text": [
      "The countries with more than 20 gold medals are :\n",
      "GBR Chine RUS US "
     ]
    }
   ],
   "source": [
    "s=np_olympic_country_gold\n",
    "print(\"The countries with more than 20 gold medals are :\")\n",
    "for i in range(len(s)):\n",
    "    if s[i] > 20:\n",
    "        print(np_olympic_country[i],end=\" \")"
   ]
  },
  {
   "cell_type": "markdown",
   "id": "c57e4ea4",
   "metadata": {},
   "source": [
    "# 4. Evaluate the dataset and print the medal:\n",
    "\n",
    "1. print each country name with number of gold medals\n",
    "\n",
    "2. print each country nale with total number of medals"
   ]
  },
  {
   "cell_type": "code",
   "execution_count": 29,
   "id": "569bec47",
   "metadata": {},
   "outputs": [
    {
     "name": "stdout",
     "output_type": "stream",
     "text": [
      "[ 65  78  81 103  28  38  36]\n",
      "GBR with number of gold medals is : 29\n",
      "Chine with number of gold medals is : 38\n",
      "RUS with number of gold medals is : 24\n",
      "US with number of gold medals is : 46\n",
      "KOR with number of gold medals is : 13\n",
      "JPN with number of gold medals is : 7\n",
      "GER with number of gold medals is : 11\n",
      "\n",
      "GBR number of medals is  65\n",
      "Chine number of medals is  78\n",
      "RUS number of medals is  81\n",
      "US number of medals is  103\n",
      "KOR number of medals is  28\n",
      "JPN number of medals is  38\n",
      "GER number of medals is  36\n"
     ]
    }
   ],
   "source": [
    "s=np_olympic_country_gold\n",
    "total_medals=np_olympic_country_gold+np_olympic_country_silver+np_olympic_country_Bronze\n",
    "\n",
    "for i in range(len(s)):\n",
    "    print(np_olympic_country[i],\"with number of gold medals is :\",np_olympic_country_gold[i])\n",
    "    \n",
    "print()\n",
    "\n",
    "for i in range(len(total_medals)):\n",
    "    print(np_olympic_country[i],\"number of medals is \",total_medals[i])\n"
   ]
  },
  {
   "cell_type": "markdown",
   "id": "87b67bc8",
   "metadata": {},
   "source": [
    "# 1. Create a 3x3x3 array with random values"
   ]
  },
  {
   "cell_type": "code",
   "execution_count": 34,
   "id": "409a9bd8",
   "metadata": {},
   "outputs": [
    {
     "name": "stdout",
     "output_type": "stream",
     "text": [
      "[[[0.05958613 0.37009717 0.30448015]\n",
      "  [0.70451193 0.06937221 0.27495331]\n",
      "  [0.44134608 0.08033637 0.07635778]]\n",
      "\n",
      " [[0.62708797 0.3455411  0.66097612]\n",
      "  [0.0723849  0.36194362 0.97569194]\n",
      "  [0.46004173 0.69329777 0.74228879]]\n",
      "\n",
      " [[0.80623955 0.37982381 0.17712847]\n",
      "  [0.6819584  0.46875022 0.10803028]\n",
      "  [0.06609513 0.21207519 0.15810219]]]\n"
     ]
    }
   ],
   "source": [
    "import numpy as np\n",
    "array=np.random.rand(3,3,3)\n",
    "print(array)"
   ]
  },
  {
   "cell_type": "markdown",
   "id": "eb994696",
   "metadata": {},
   "source": [
    "# 2.Create a 5x5 matrix with values 1,2,3,4 just below the diagonal"
   ]
  },
  {
   "cell_type": "code",
   "execution_count": 45,
   "id": "a5cc427d",
   "metadata": {},
   "outputs": [
    {
     "data": {
      "text/plain": [
       "array([[0, 0, 0, 0, 0],\n",
       "       [0, 1, 0, 0, 0],\n",
       "       [0, 0, 2, 0, 0],\n",
       "       [0, 0, 0, 3, 0],\n",
       "       [0, 0, 0, 0, 4]])"
      ]
     },
     "execution_count": 45,
     "metadata": {},
     "output_type": "execute_result"
    }
   ],
   "source": [
    "s=np.array([0,1,2,3,4])\n",
    "d=np.diag(s)\n",
    "d"
   ]
  },
  {
   "cell_type": "markdown",
   "id": "2dc626ee",
   "metadata": {},
   "source": [
    "# 3.Create a 8x8 matrix and fill it with a checkerboard pattern"
   ]
  },
  {
   "cell_type": "code",
   "execution_count": 57,
   "id": "eaffaae4",
   "metadata": {},
   "outputs": [
    {
     "name": "stdout",
     "output_type": "stream",
     "text": [
      "[[0. 1. 0. 1. 0. 1. 0. 1.]\n",
      " [1. 0. 1. 0. 1. 0. 1. 0.]\n",
      " [0. 1. 0. 1. 0. 1. 0. 1.]\n",
      " [1. 0. 1. 0. 1. 0. 1. 0.]\n",
      " [0. 1. 0. 1. 0. 1. 0. 1.]\n",
      " [1. 0. 1. 0. 1. 0. 1. 0.]\n",
      " [0. 1. 0. 1. 0. 1. 0. 1.]\n",
      " [1. 0. 1. 0. 1. 0. 1. 0.]]\n"
     ]
    }
   ],
   "source": [
    "arr=np.zeros((8,8))\n",
    "arr[1::2,::2]=1\n",
    "arr[::2,1::2]=1\n",
    "print(arr)"
   ]
  },
  {
   "cell_type": "markdown",
   "id": "bcf4143a",
   "metadata": {},
   "source": [
    "# 4. Normalize a 5x5 random matrix"
   ]
  },
  {
   "cell_type": "code",
   "execution_count": 61,
   "id": "481303ae",
   "metadata": {},
   "outputs": [
    {
     "name": "stdout",
     "output_type": "stream",
     "text": [
      "origina array\n",
      "\n",
      "[[0.32113112 0.78228339 0.0251196  0.47487472 0.18780274]\n",
      " [0.28783818 0.37588327 0.11031315 0.10132878 0.86459602]\n",
      " [0.83695608 0.19077085 0.86045921 0.99510001 0.30409469]\n",
      " [0.23732062 0.31208476 0.53620434 0.28657978 0.95246705]\n",
      " [0.55005671 0.37415753 0.15285593 0.38423242 0.63201231]]\n",
      "\n",
      "normalised array\n",
      "\n",
      "[[0.30517268 0.78059699 0.         0.46367444 0.16771797]\n",
      " [0.27084937 0.36161933 0.08783018 0.07856775 0.86545709]\n",
      " [0.83696173 0.17077793 0.86119225 1.         0.28760899]\n",
      " [0.21876835 0.29584635 0.52690212 0.26955202 0.95604761]\n",
      " [0.54118321 0.35984018 0.13168959 0.37022688 0.62567523]]\n"
     ]
    }
   ],
   "source": [
    "arr=np.random.rand(5,5)\n",
    "min_value=arr.min()\n",
    "max_value=arr.max()\n",
    "normalized=(arr - min_value )/(max_value-min_value)\n",
    "print(\"origina array\")\n",
    "print()\n",
    "print(arr)\n",
    "print()\n",
    "print(\"normalised array\")\n",
    "print()\n",
    "print(normalized)"
   ]
  },
  {
   "cell_type": "markdown",
   "id": "fede7c1f",
   "metadata": {},
   "source": [
    "# 5. How to find common values between two arrays?"
   ]
  },
  {
   "cell_type": "code",
   "execution_count": 63,
   "id": "7280d2ca",
   "metadata": {},
   "outputs": [
    {
     "name": "stdout",
     "output_type": "stream",
     "text": [
      "the common values from both arrays is  [1 2 3 4]\n"
     ]
    }
   ],
   "source": [
    "a1=np.array([1,2,3,4,5])\n",
    "a2=np.array([1,2,7,4,3])\n",
    "a3=np.intersect1d(a1,a2)\n",
    "print(\"the common values from both arrays is \",a3)"
   ]
  },
  {
   "cell_type": "markdown",
   "id": "2f9b545b",
   "metadata": {},
   "source": [
    "# 6.How to get the dates of yesterday, today and tomorrow?"
   ]
  },
  {
   "cell_type": "code",
   "execution_count": 64,
   "id": "55f9c36b",
   "metadata": {},
   "outputs": [
    {
     "name": "stdout",
     "output_type": "stream",
     "text": [
      "2023-09-21   2023-09-20   2023-09-22  \n"
     ]
    }
   ],
   "source": [
    "from datetime import date,timedelta\n",
    "today=date.today()\n",
    "yesterday=today-timedelta(1)\n",
    "tommorow=today+timedelta(1)\n",
    "print(today,\" \",yesterday,\" \",tommorow,\" \")"
   ]
  },
  {
   "cell_type": "markdown",
   "id": "61f65e73",
   "metadata": {},
   "source": [
    "# 7. Consider two random array A and B, check if they are equal"
   ]
  },
  {
   "cell_type": "code",
   "execution_count": 71,
   "id": "8aa5ca2d",
   "metadata": {},
   "outputs": [
    {
     "name": "stdout",
     "output_type": "stream",
     "text": [
      "Array 1:\n",
      "\n",
      "[[0.63197242 0.59729129 0.29916322 0.28269942]\n",
      " [0.28607424 0.20844638 0.78812132 0.8198945 ]\n",
      " [0.30112282 0.14139338 0.86525836 0.60324383]\n",
      " [0.04399624 0.48741815 0.3907854  0.50200282]]\n",
      "\n",
      "second array\n",
      "\n",
      "[[0.82948034 0.09124199 0.45503393 0.71228872]\n",
      " [0.78172123 0.52698033 0.60052656 0.20382116]\n",
      " [0.35631705 0.50296198 0.37317434 0.46553206]\n",
      " [0.75882068 0.72249727 0.34372481 0.57306014]]\n",
      "\n",
      "the both arrays equal or not\n",
      "False\n"
     ]
    }
   ],
   "source": [
    "a1=np.random.rand(4,4)\n",
    "a2=np.random.rand(4,4)\n",
    "equal=np.array_equal(a1,a2)\n",
    "\n",
    "print(\"Array 1:\")\n",
    "print()\n",
    "print(a1)\n",
    "print()\n",
    "print(\"second array\")\n",
    "print()\n",
    "print(a2)\n",
    "print()\n",
    "print(\"the both arrays equal or not\")\n",
    "\n",
    "print(equal)"
   ]
  },
  {
   "cell_type": "markdown",
   "id": "e5a4e09f",
   "metadata": {},
   "source": [
    "# 8.Create random vector of size 10 and replace the maximum value by 0"
   ]
  },
  {
   "cell_type": "code",
   "execution_count": 81,
   "id": "61ff24b4",
   "metadata": {},
   "outputs": [
    {
     "name": "stdout",
     "output_type": "stream",
     "text": [
      "original vector\n",
      " [0.22508049 0.92108214 0.51716001 0.11244738 0.82612974 0.5541129\n",
      " 0.86430726 0.04074603 0.5588993  0.83926498]\n",
      "\n",
      "the maximum value replace with 0\n",
      "[0.22508049 0.         0.51716001 0.11244738 0.82612974 0.5541129\n",
      " 0.86430726 0.04074603 0.5588993  0.83926498]\n"
     ]
    }
   ],
   "source": [
    "vec=np.random.rand(10)\n",
    "print(\"original vector\\n\",vec)\n",
    "\n",
    "vec[vec.argmax()]=0\n",
    "print()\n",
    "print(\"the maximum value replace with 0\")\n",
    "print(vec)"
   ]
  },
  {
   "cell_type": "markdown",
   "id": "08bfcb3d",
   "metadata": {},
   "source": [
    "# 9. How to print all the values of an array?"
   ]
  },
  {
   "cell_type": "code",
   "execution_count": 82,
   "id": "c972bbfd",
   "metadata": {},
   "outputs": [
    {
     "name": "stdout",
     "output_type": "stream",
     "text": [
      "[[2 3 4]\n",
      " [6 7 8]\n",
      " [2 5 7]]\n"
     ]
    }
   ],
   "source": [
    "import numpy as np\n",
    "\n",
    "\n",
    "array = np.array([[2,3,4], [6,7,8], [2,5,7]])\n",
    "\n",
    "\n",
    "print(array)\n"
   ]
  },
  {
   "cell_type": "markdown",
   "id": "9e0a4c6b",
   "metadata": {},
   "source": [
    "# 10.Subtract the mean of each row of a matrix"
   ]
  },
  {
   "cell_type": "code",
   "execution_count": 85,
   "id": "e14d1e40",
   "metadata": {},
   "outputs": [
    {
     "name": "stdout",
     "output_type": "stream",
     "text": [
      "Original matrix:\n",
      "[[2 3 4]\n",
      " [6 7 2]\n",
      " [9 1 2]]\n",
      "\n",
      "Centered matrix:\n",
      "[[-1. -2.  0.]\n",
      " [ 3.  2. -2.]\n",
      " [ 6. -4. -2.]]\n"
     ]
    }
   ],
   "source": [
    "import numpy as np\n",
    "\n",
    "# Create a sample matrix\n",
    "matrix = np.array([[2,3,4], \n",
    "                   [6,7,2], \n",
    "                   [9,1,2]])\n",
    "\n",
    "\n",
    "row_means = matrix.mean(axis=1)\n",
    "\n",
    "\n",
    "centered_matrix = matrix - row_means\n",
    "\n",
    "print(\"Original matrix:\")\n",
    "print(matrix)\n",
    "print(\"\\nCentered matrix:\")\n",
    "print(centered_matrix)\n"
   ]
  },
  {
   "cell_type": "markdown",
   "id": "aa114c32",
   "metadata": {},
   "source": [
    "# 11.Consider a given vector, how to add 1 to each element indexed by a second vector (be careful with repeated Indices)?"
   ]
  },
  {
   "cell_type": "code",
   "execution_count": 87,
   "id": "9da082f7",
   "metadata": {},
   "outputs": [
    {
     "name": "stdout",
     "output_type": "stream",
     "text": [
      "[1 4 6 4 5]\n"
     ]
    }
   ],
   "source": [
    "import numpy as np\n",
    "\n",
    "vector = np.array([1, 2, 3, 4, 5])\n",
    "\n",
    "\n",
    "indices = np.array([1, 1, 2, 2, 2])\n",
    "\n",
    "for index in indices:\n",
    "    vector[index] += 1\n",
    "\n",
    "print(vector)\n"
   ]
  },
  {
   "cell_type": "markdown",
   "id": "416f9a81",
   "metadata": {},
   "source": [
    "# 12.How to get the diagonal of a dot product?"
   ]
  },
  {
   "cell_type": "code",
   "execution_count": 96,
   "id": "02e6197f",
   "metadata": {},
   "outputs": [
    {
     "name": "stdout",
     "output_type": "stream",
     "text": [
      "[[ 2  7]\n",
      " [ 6 15]]\n",
      "The diagonal is : [ 2 15]\n"
     ]
    }
   ],
   "source": [
    "A = np.array([[1, 2], [3, 4]])\n",
    "B = np.array([[2, 1], [0, 3]])\n",
    "\n",
    "c=np.dot(A,B)\n",
    "print(c)\n",
    "diag=np.diagonal(c)\n",
    "print(\"The diagonal is :\",diag)"
   ]
  },
  {
   "cell_type": "markdown",
   "id": "c725a500",
   "metadata": {},
   "source": [
    "# 13.How to find the most frequent value in an array?"
   ]
  },
  {
   "cell_type": "code",
   "execution_count": 104,
   "id": "92c1cd54",
   "metadata": {},
   "outputs": [
    {
     "name": "stdout",
     "output_type": "stream",
     "text": [
      "[5 6 9 1 5 6 3 3 5 2 3 5 2 3 2 8 9 1 2 5 9 5 7 8 9 7 2 6 7 1 6 1 1 5 3 6 9\n",
      " 8 6 6 9 6 1 3 7 6 4 6 8 3]\n",
      "The most frequent value in an array :  6\n"
     ]
    }
   ],
   "source": [
    "a=np.random.randint(1,10,50)\n",
    "most_frequent = np.bincount(a).argmax()\n",
    "print(a)\n",
    "print(\"The most frequent value in an array : \",most_frequent)"
   ]
  },
  {
   "cell_type": "markdown",
   "id": "219e5466",
   "metadata": {},
   "source": [
    "# 14.How to get the n largest values of an array"
   ]
  },
  {
   "cell_type": "code",
   "execution_count": 106,
   "id": "08643fdc",
   "metadata": {},
   "outputs": [
    {
     "name": "stdout",
     "output_type": "stream",
     "text": [
      "Original array: [1 5 7 2 8 3 9 4 6]\n",
      "4 largest values: [6 7 8 9]\n"
     ]
    }
   ],
   "source": [
    "import numpy as np\n",
    "\n",
    "# Sample array for demonstration\n",
    "a = np.array([1, 5, 7, 2, 8, 3, 9, 4, 6])\n",
    "\n",
    "# Define n (e.g., n=3 for the 3 largest values)\n",
    "n = 4\n",
    "\n",
    "# Get the n largest values\n",
    "n_largest_values = np.partition(a, -n)[-n:]\n",
    "n_largest_values_sorted = np.sort(n_largest_values)\n",
    "\n",
    "print(\"Original array:\", a)\n",
    "print(f\"{n} largest values:\", n_largest_values_sorted)\n"
   ]
  },
  {
   "cell_type": "markdown",
   "id": "958927a3",
   "metadata": {},
   "source": [
    "# 15.How to create a record array from a regular array?"
   ]
  },
  {
   "cell_type": "code",
   "execution_count": 108,
   "id": "114f5668",
   "metadata": {},
   "outputs": [
    {
     "name": "stdout",
     "output_type": "stream",
     "text": [
      "[(1, 'First', 0.5) (2, 'Second', 1.3) (3, 'Third', 0.8)]\n",
      "First\n",
      "1.3\n"
     ]
    }
   ],
   "source": [
    "import numpy as np\n",
    "\n",
    "# Data for the record array\n",
    "data = [(1, 'First', 0.5),\n",
    "        (2, 'Second', 1.3),\n",
    "        (3, 'Third', 0.8)]\n",
    "\n",
    "# Define the dtype for the record array\n",
    "dtype = [('id', int), ('name', 'U10'), ('value', float)]\n",
    "\n",
    "# Create the record array\n",
    "record_array = np.array(data, dtype=dtype)\n",
    "\n",
    "print(record_array)\n",
    "\n",
    "# Accessing fields in record array\n",
    "print(record_array[0]['name'])  \n",
    "print(record_array[1]['value'])  \n"
   ]
  },
  {
   "cell_type": "markdown",
   "id": "68ac923d",
   "metadata": {},
   "source": [
    "# 16. How to swap two rows of an array?"
   ]
  },
  {
   "cell_type": "code",
   "execution_count": 119,
   "id": "3915198c",
   "metadata": {},
   "outputs": [
    {
     "name": "stdout",
     "output_type": "stream",
     "text": [
      "[[1 2 3]\n",
      " [4 5 6]\n",
      " [7 8 9]]\n",
      "\n",
      "after swapping\n",
      "[[4 5 6]\n",
      " [1 2 3]\n",
      " [7 8 9]]\n"
     ]
    }
   ],
   "source": [
    "arr = np.array([[1, 2, 3], \n",
    "                [4, 5, 6], \n",
    "                [7, 8, 9]])\n",
    "print(arr)\n",
    "print()\n",
    "arr[[0,1]]=arr[[1,0]]\n",
    "\n",
    "print(\"after swapping\")\n",
    "\n",
    "print(arr)\n"
   ]
  },
  {
   "cell_type": "markdown",
   "id": "5c23367f",
   "metadata": {},
   "source": [
    "# 17. Write python code to reshape to the next dimension of numpy array?"
   ]
  },
  {
   "cell_type": "code",
   "execution_count": 124,
   "id": "31f8c429",
   "metadata": {},
   "outputs": [
    {
     "name": "stdout",
     "output_type": "stream",
     "text": [
      "[[[ 23  34 121]\n",
      "  [ 23  22  67]\n",
      "  [686 434 123]]]\n"
     ]
    }
   ],
   "source": [
    "x=np.array([[23,34,121],[23,22,67],[686,434,123]])\n",
    "y=x.reshape(1,3,3)\n",
    "print(y)"
   ]
  },
  {
   "cell_type": "code",
   "execution_count": null,
   "id": "88a891ee",
   "metadata": {},
   "outputs": [],
   "source": []
  }
 ],
 "metadata": {
  "kernelspec": {
   "display_name": "Python 3 (ipykernel)",
   "language": "python",
   "name": "python3"
  },
  "language_info": {
   "codemirror_mode": {
    "name": "ipython",
    "version": 3
   },
   "file_extension": ".py",
   "mimetype": "text/x-python",
   "name": "python",
   "nbconvert_exporter": "python",
   "pygments_lexer": "ipython3",
   "version": "3.8.18"
  }
 },
 "nbformat": 4,
 "nbformat_minor": 5
}
